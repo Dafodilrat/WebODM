{
 "cells": [
  {
   "cell_type": "code",
   "execution_count": 1,
   "metadata": {},
   "outputs": [],
   "source": [
    "import cv2 \n",
    "import pandas as pd\n",
    "import time\n",
    "import os\n",
    "from os.path import isfile, join\n",
    "import numpy as np\n",
    "import math"
   ]
  },
  {
   "cell_type": "code",
   "execution_count": 2,
   "metadata": {},
   "outputs": [],
   "source": [
    "vidcap = cv2.VideoCapture('Data/movie.mp4')"
   ]
  },
  {
   "cell_type": "code",
   "execution_count": 3,
   "metadata": {},
   "outputs": [
    {
     "ename": "KeyboardInterrupt",
     "evalue": "",
     "output_type": "error",
     "traceback": [
      "\u001b[0;31m---------------------------------------------------------------------------\u001b[0m",
      "\u001b[0;31mKeyboardInterrupt\u001b[0m                         Traceback (most recent call last)",
      "\u001b[1;32m/home/dafodilrat/Documents/projects/sfm-prism/split_video.ipynb Cell 3\u001b[0m line \u001b[0;36m1\n\u001b[1;32m     <a href='vscode-notebook-cell:/home/dafodilrat/Documents/projects/sfm-prism/split_video.ipynb#W2sZmlsZQ%3D%3D?line=14'>15</a>\u001b[0m count\u001b[39m+\u001b[39m\u001b[39m=\u001b[39m\u001b[39m1\u001b[39m\n\u001b[1;32m     <a href='vscode-notebook-cell:/home/dafodilrat/Documents/projects/sfm-prism/split_video.ipynb#W2sZmlsZQ%3D%3D?line=15'>16</a>\u001b[0m sec \u001b[39m=\u001b[39m \u001b[39mround\u001b[39m(sec, \u001b[39m2\u001b[39m) \n\u001b[0;32m---> <a href='vscode-notebook-cell:/home/dafodilrat/Documents/projects/sfm-prism/split_video.ipynb#W2sZmlsZQ%3D%3D?line=16'>17</a>\u001b[0m success \u001b[39m=\u001b[39m getFrame(count,sec) \n",
      "\u001b[1;32m/home/dafodilrat/Documents/projects/sfm-prism/split_video.ipynb Cell 3\u001b[0m line \u001b[0;36m2\n\u001b[1;32m      <a href='vscode-notebook-cell:/home/dafodilrat/Documents/projects/sfm-prism/split_video.ipynb#W2sZmlsZQ%3D%3D?line=0'>1</a>\u001b[0m \u001b[39mdef\u001b[39;00m \u001b[39mgetFrame\u001b[39m(count,sec): \n\u001b[0;32m----> <a href='vscode-notebook-cell:/home/dafodilrat/Documents/projects/sfm-prism/split_video.ipynb#W2sZmlsZQ%3D%3D?line=1'>2</a>\u001b[0m     vidcap\u001b[39m.\u001b[39;49mset(cv2\u001b[39m.\u001b[39;49mCAP_PROP_POS_MSEC,sec\u001b[39m*\u001b[39;49m\u001b[39m1000\u001b[39;49m) \n\u001b[1;32m      <a href='vscode-notebook-cell:/home/dafodilrat/Documents/projects/sfm-prism/split_video.ipynb#W2sZmlsZQ%3D%3D?line=2'>3</a>\u001b[0m     hasFrames,image \u001b[39m=\u001b[39m vidcap\u001b[39m.\u001b[39mread() \n\u001b[1;32m      <a href='vscode-notebook-cell:/home/dafodilrat/Documents/projects/sfm-prism/split_video.ipynb#W2sZmlsZQ%3D%3D?line=3'>4</a>\u001b[0m     \u001b[39mif\u001b[39;00m hasFrames: \n",
      "\u001b[0;31mKeyboardInterrupt\u001b[0m: "
     ]
    }
   ],
   "source": [
    "def getFrame(count,sec): \n",
    "    vidcap.set(cv2.CAP_PROP_POS_MSEC,sec*1000) \n",
    "    hasFrames,image = vidcap.read() \n",
    "    if hasFrames: \n",
    "        cv2.imwrite(\"images/image\"+str(count)+\".jpg\", image)     # save frame as JPG file \n",
    "    return hasFrames \n",
    "\n",
    "sec = 0 \n",
    "frameRate = 0.5\n",
    "count=0\n",
    "success = getFrame(count,sec) \n",
    "\n",
    "while success: \n",
    "    sec = sec + frameRate \n",
    "    count+=1\n",
    "    sec = round(sec, 2) \n",
    "    success = getFrame(count,sec) "
   ]
  }
 ],
 "metadata": {
  "kernelspec": {
   "display_name": "Python 3",
   "language": "python",
   "name": "python3"
  },
  "language_info": {
   "codemirror_mode": {
    "name": "ipython",
    "version": 3
   },
   "file_extension": ".py",
   "mimetype": "text/x-python",
   "name": "python",
   "nbconvert_exporter": "python",
   "pygments_lexer": "ipython3",
   "version": "3.10.12"
  },
  "orig_nbformat": 4
 },
 "nbformat": 4,
 "nbformat_minor": 2
}
